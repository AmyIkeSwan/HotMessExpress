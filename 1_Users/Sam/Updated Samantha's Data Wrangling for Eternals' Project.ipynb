{
 "cells": [
  {
   "cell_type": "markdown",
   "id": "1d23a7fa",
   "metadata": {},
   "source": [
    "# Load Packages"
   ]
  },
  {
   "cell_type": "code",
   "execution_count": 1,
   "id": "6007d8b4",
   "metadata": {},
   "outputs": [],
   "source": [
    "import numpy as np\n",
    "import pandas as pd"
   ]
  },
  {
   "cell_type": "markdown",
   "id": "9ec2fa58",
   "metadata": {},
   "source": [
    "# Import Data"
   ]
  },
  {
   "cell_type": "code",
   "execution_count": 2,
   "id": "bee27fc1",
   "metadata": {},
   "outputs": [],
   "source": [
    "F2Fmerged_raw = pd.read_csv(\"Eternals' Group Project - f2fMerged_raw.csv\")"
   ]
  },
  {
   "cell_type": "markdown",
   "id": "712fa1fe",
   "metadata": {},
   "source": [
    "# View Data"
   ]
  },
  {
   "cell_type": "code",
   "execution_count": 3,
   "id": "50977f86",
   "metadata": {},
   "outputs": [
    {
     "data": {
      "text/html": [
       "<div>\n",
       "<style scoped>\n",
       "    .dataframe tbody tr th:only-of-type {\n",
       "        vertical-align: middle;\n",
       "    }\n",
       "\n",
       "    .dataframe tbody tr th {\n",
       "        vertical-align: top;\n",
       "    }\n",
       "\n",
       "    .dataframe thead th {\n",
       "        text-align: right;\n",
       "    }\n",
       "</style>\n",
       "<table border=\"1\" class=\"dataframe\">\n",
       "  <thead>\n",
       "    <tr style=\"text-align: right;\">\n",
       "      <th></th>\n",
       "      <th>UID</th>\n",
       "      <th>Section</th>\n",
       "      <th>Group</th>\n",
       "      <th>Sum_Introversion</th>\n",
       "      <th>Sum_Extraversion</th>\n",
       "      <th>TBL1_iRAT (Module 1: iRAT -- Requires Respondus LockDown Browser (5 points))</th>\n",
       "      <th>TBL2_iRAT (Module 2: iRAT - Requires Respondus LockDown Browser + Webcam (5 points))</th>\n",
       "      <th>TBL3_iRAT (Module 3: iRAT - Requires Respondus LockDown Browser + Webcam (5 points))</th>\n",
       "      <th>TBL1_tRAT (Module 1: tRAT -- Only one Team Member submits (15 points))</th>\n",
       "      <th>TBL2_tRAT (Module 2: tRAT -- Only one Team Member submits (15 points))</th>\n",
       "      <th>TBL3_tRAT (Module 3: tRAT -- Only one Team Member submits (15 points))</th>\n",
       "    </tr>\n",
       "  </thead>\n",
       "  <tbody>\n",
       "    <tr>\n",
       "      <th>0</th>\n",
       "      <td>10267.0</td>\n",
       "      <td>F2F_2021</td>\n",
       "      <td>24.0</td>\n",
       "      <td>24.0</td>\n",
       "      <td>11.0</td>\n",
       "      <td>3.0</td>\n",
       "      <td>2.0</td>\n",
       "      <td>5.0</td>\n",
       "      <td>15.0</td>\n",
       "      <td>14.0</td>\n",
       "      <td>15.0</td>\n",
       "    </tr>\n",
       "    <tr>\n",
       "      <th>1</th>\n",
       "      <td>23143.0</td>\n",
       "      <td>F2F_2021</td>\n",
       "      <td>8.0</td>\n",
       "      <td>20.0</td>\n",
       "      <td>13.0</td>\n",
       "      <td>3.0</td>\n",
       "      <td>2.0</td>\n",
       "      <td>3.0</td>\n",
       "      <td>15.0</td>\n",
       "      <td>14.0</td>\n",
       "      <td>15.0</td>\n",
       "    </tr>\n",
       "    <tr>\n",
       "      <th>2</th>\n",
       "      <td>23144.0</td>\n",
       "      <td>F2F_2021</td>\n",
       "      <td>8.0</td>\n",
       "      <td>NaN</td>\n",
       "      <td>NaN</td>\n",
       "      <td>4.0</td>\n",
       "      <td>2.0</td>\n",
       "      <td>3.0</td>\n",
       "      <td>15.0</td>\n",
       "      <td>14.0</td>\n",
       "      <td>15.0</td>\n",
       "    </tr>\n",
       "    <tr>\n",
       "      <th>3</th>\n",
       "      <td>23145.0</td>\n",
       "      <td>F2F_2021</td>\n",
       "      <td>5.0</td>\n",
       "      <td>18.0</td>\n",
       "      <td>18.0</td>\n",
       "      <td>4.0</td>\n",
       "      <td>2.0</td>\n",
       "      <td>2.0</td>\n",
       "      <td>15.0</td>\n",
       "      <td>15.0</td>\n",
       "      <td>14.0</td>\n",
       "    </tr>\n",
       "    <tr>\n",
       "      <th>4</th>\n",
       "      <td>23146.0</td>\n",
       "      <td>F2F_2021</td>\n",
       "      <td>21.0</td>\n",
       "      <td>26.0</td>\n",
       "      <td>8.0</td>\n",
       "      <td>4.0</td>\n",
       "      <td>2.0</td>\n",
       "      <td>2.0</td>\n",
       "      <td>15.0</td>\n",
       "      <td>12.0</td>\n",
       "      <td>15.0</td>\n",
       "    </tr>\n",
       "  </tbody>\n",
       "</table>\n",
       "</div>"
      ],
      "text/plain": [
       "       UID   Section  Group  Sum_Introversion  Sum_Extraversion  \\\n",
       "0  10267.0  F2F_2021   24.0              24.0              11.0   \n",
       "1  23143.0  F2F_2021    8.0              20.0              13.0   \n",
       "2  23144.0  F2F_2021    8.0               NaN               NaN   \n",
       "3  23145.0  F2F_2021    5.0              18.0              18.0   \n",
       "4  23146.0  F2F_2021   21.0              26.0               8.0   \n",
       "\n",
       "   TBL1_iRAT (Module 1: iRAT -- Requires Respondus LockDown Browser (5 points))  \\\n",
       "0                                                3.0                              \n",
       "1                                                3.0                              \n",
       "2                                                4.0                              \n",
       "3                                                4.0                              \n",
       "4                                                4.0                              \n",
       "\n",
       "   TBL2_iRAT (Module 2: iRAT - Requires Respondus LockDown Browser + Webcam (5 points))  \\\n",
       "0                                                2.0                                      \n",
       "1                                                2.0                                      \n",
       "2                                                2.0                                      \n",
       "3                                                2.0                                      \n",
       "4                                                2.0                                      \n",
       "\n",
       "   TBL3_iRAT (Module 3: iRAT - Requires Respondus LockDown Browser + Webcam (5 points))  \\\n",
       "0                                                5.0                                      \n",
       "1                                                3.0                                      \n",
       "2                                                3.0                                      \n",
       "3                                                2.0                                      \n",
       "4                                                2.0                                      \n",
       "\n",
       "   TBL1_tRAT (Module 1: tRAT -- Only one Team Member submits (15 points))  \\\n",
       "0                                               15.0                        \n",
       "1                                               15.0                        \n",
       "2                                               15.0                        \n",
       "3                                               15.0                        \n",
       "4                                               15.0                        \n",
       "\n",
       "   TBL2_tRAT (Module 2: tRAT -- Only one Team Member submits (15 points))  \\\n",
       "0                                               14.0                        \n",
       "1                                               14.0                        \n",
       "2                                               14.0                        \n",
       "3                                               15.0                        \n",
       "4                                               12.0                        \n",
       "\n",
       "   TBL3_tRAT (Module 3: tRAT -- Only one Team Member submits (15 points))  \n",
       "0                                               15.0                       \n",
       "1                                               15.0                       \n",
       "2                                               15.0                       \n",
       "3                                               14.0                       \n",
       "4                                               15.0                       "
      ]
     },
     "execution_count": 3,
     "metadata": {},
     "output_type": "execute_result"
    }
   ],
   "source": [
    "F2Fmerged_raw.head()"
   ]
  },
  {
   "cell_type": "code",
   "execution_count": 4,
   "id": "745c71a6",
   "metadata": {},
   "outputs": [
    {
     "data": {
      "text/plain": [
       "<bound method DataFrame.info of          UID   Section  Group  Sum_Introversion  Sum_Extraversion  \\\n",
       "0    10267.0  F2F_2021   24.0              24.0              11.0   \n",
       "1    23143.0  F2F_2021    8.0              20.0              13.0   \n",
       "2    23144.0  F2F_2021    8.0               NaN               NaN   \n",
       "3    23145.0  F2F_2021    5.0              18.0              18.0   \n",
       "4    23146.0  F2F_2021   21.0              26.0               8.0   \n",
       "..       ...       ...    ...               ...               ...   \n",
       "619  19143.0  F2F_2019    3.0              29.0               5.0   \n",
       "620  19144.0  F2F_2019    8.0              18.0              17.0   \n",
       "621  19145.0  F2F_2019   10.0              29.0               6.0   \n",
       "622  19153.0  F2F_2019   15.0              15.0              18.0   \n",
       "623      NaN       NaN    NaN               NaN               NaN   \n",
       "\n",
       "     TBL1_iRAT (Module 1: iRAT -- Requires Respondus LockDown Browser (5 points))  \\\n",
       "0                                                  3.0                              \n",
       "1                                                  3.0                              \n",
       "2                                                  4.0                              \n",
       "3                                                  4.0                              \n",
       "4                                                  4.0                              \n",
       "..                                                 ...                              \n",
       "619                                                3.0                              \n",
       "620                                                4.0                              \n",
       "621                                                4.0                              \n",
       "622                                                5.0                              \n",
       "623                                                5.0                              \n",
       "\n",
       "     TBL2_iRAT (Module 2: iRAT - Requires Respondus LockDown Browser + Webcam (5 points))  \\\n",
       "0                                                  2.0                                      \n",
       "1                                                  2.0                                      \n",
       "2                                                  2.0                                      \n",
       "3                                                  2.0                                      \n",
       "4                                                  2.0                                      \n",
       "..                                                 ...                                      \n",
       "619                                                4.0                                      \n",
       "620                                                4.0                                      \n",
       "621                                                4.0                                      \n",
       "622                                                4.0                                      \n",
       "623                                                5.0                                      \n",
       "\n",
       "     TBL3_iRAT (Module 3: iRAT - Requires Respondus LockDown Browser + Webcam (5 points))  \\\n",
       "0                                                  5.0                                      \n",
       "1                                                  3.0                                      \n",
       "2                                                  3.0                                      \n",
       "3                                                  2.0                                      \n",
       "4                                                  2.0                                      \n",
       "..                                                 ...                                      \n",
       "619                                                5.0                                      \n",
       "620                                                4.0                                      \n",
       "621                                                4.0                                      \n",
       "622                                                4.0                                      \n",
       "623                                                5.0                                      \n",
       "\n",
       "     TBL1_tRAT (Module 1: tRAT -- Only one Team Member submits (15 points))  \\\n",
       "0                                                 15.0                        \n",
       "1                                                 15.0                        \n",
       "2                                                 15.0                        \n",
       "3                                                 15.0                        \n",
       "4                                                 15.0                        \n",
       "..                                                 ...                        \n",
       "619                                               15.0                        \n",
       "620                                               15.0                        \n",
       "621                                               14.0                        \n",
       "622                                               15.0                        \n",
       "623                                               15.0                        \n",
       "\n",
       "     TBL2_tRAT (Module 2: tRAT -- Only one Team Member submits (15 points))  \\\n",
       "0                                                 14.0                        \n",
       "1                                                 14.0                        \n",
       "2                                                 14.0                        \n",
       "3                                                 15.0                        \n",
       "4                                                 12.0                        \n",
       "..                                                 ...                        \n",
       "619                                               14.0                        \n",
       "620                                               14.0                        \n",
       "621                                               15.0                        \n",
       "622                                               14.0                        \n",
       "623                                               15.0                        \n",
       "\n",
       "     TBL3_tRAT (Module 3: tRAT -- Only one Team Member submits (15 points))  \n",
       "0                                                 15.0                       \n",
       "1                                                 15.0                       \n",
       "2                                                 15.0                       \n",
       "3                                                 14.0                       \n",
       "4                                                 15.0                       \n",
       "..                                                 ...                       \n",
       "619                                               15.0                       \n",
       "620                                               14.0                       \n",
       "621                                               13.0                       \n",
       "622                                               15.0                       \n",
       "623                                               15.0                       \n",
       "\n",
       "[624 rows x 11 columns]>"
      ]
     },
     "execution_count": 4,
     "metadata": {},
     "output_type": "execute_result"
    }
   ],
   "source": [
    "F2Fmerged_raw.info"
   ]
  },
  {
   "cell_type": "markdown",
   "id": "d9c0d71f",
   "metadata": {},
   "source": [
    "# Check the Shape of the Dataframe"
   ]
  },
  {
   "cell_type": "code",
   "execution_count": 5,
   "id": "e2feb73b",
   "metadata": {},
   "outputs": [
    {
     "data": {
      "text/plain": [
       "(624, 11)"
      ]
     },
     "execution_count": 5,
     "metadata": {},
     "output_type": "execute_result"
    }
   ],
   "source": [
    "F2Fmerged_raw.shape"
   ]
  },
  {
   "cell_type": "markdown",
   "id": "46d207f6",
   "metadata": {},
   "source": [
    "# Descriptive Stats"
   ]
  },
  {
   "cell_type": "code",
   "execution_count": 7,
   "id": "61393ebe",
   "metadata": {},
   "outputs": [
    {
     "data": {
      "text/html": [
       "<div>\n",
       "<style scoped>\n",
       "    .dataframe tbody tr th:only-of-type {\n",
       "        vertical-align: middle;\n",
       "    }\n",
       "\n",
       "    .dataframe tbody tr th {\n",
       "        vertical-align: top;\n",
       "    }\n",
       "\n",
       "    .dataframe thead th {\n",
       "        text-align: right;\n",
       "    }\n",
       "</style>\n",
       "<table border=\"1\" class=\"dataframe\">\n",
       "  <thead>\n",
       "    <tr style=\"text-align: right;\">\n",
       "      <th></th>\n",
       "      <th>count</th>\n",
       "      <th>mean</th>\n",
       "      <th>std</th>\n",
       "      <th>min</th>\n",
       "      <th>25%</th>\n",
       "      <th>50%</th>\n",
       "      <th>75%</th>\n",
       "      <th>max</th>\n",
       "    </tr>\n",
       "  </thead>\n",
       "  <tbody>\n",
       "    <tr>\n",
       "      <th>UID</th>\n",
       "      <td>623.0</td>\n",
       "      <td>20866.882825</td>\n",
       "      <td>1810.036715</td>\n",
       "      <td>10267.0</td>\n",
       "      <td>18998.5</td>\n",
       "      <td>21081.0</td>\n",
       "      <td>23155.5</td>\n",
       "      <td>23728.0</td>\n",
       "    </tr>\n",
       "    <tr>\n",
       "      <th>Group</th>\n",
       "      <td>618.0</td>\n",
       "      <td>13.236246</td>\n",
       "      <td>7.381205</td>\n",
       "      <td>1.0</td>\n",
       "      <td>7.0</td>\n",
       "      <td>13.0</td>\n",
       "      <td>20.0</td>\n",
       "      <td>26.0</td>\n",
       "    </tr>\n",
       "    <tr>\n",
       "      <th>Sum_Introversion</th>\n",
       "      <td>617.0</td>\n",
       "      <td>17.270665</td>\n",
       "      <td>6.335045</td>\n",
       "      <td>2.0</td>\n",
       "      <td>13.0</td>\n",
       "      <td>18.0</td>\n",
       "      <td>22.0</td>\n",
       "      <td>33.0</td>\n",
       "    </tr>\n",
       "    <tr>\n",
       "      <th>Sum_Extraversion</th>\n",
       "      <td>617.0</td>\n",
       "      <td>17.505673</td>\n",
       "      <td>6.517986</td>\n",
       "      <td>2.0</td>\n",
       "      <td>13.0</td>\n",
       "      <td>17.0</td>\n",
       "      <td>22.0</td>\n",
       "      <td>34.0</td>\n",
       "    </tr>\n",
       "    <tr>\n",
       "      <th>TBL1_iRAT (Module 1: iRAT -- Requires Respondus LockDown Browser (5 points))</th>\n",
       "      <td>622.0</td>\n",
       "      <td>3.495177</td>\n",
       "      <td>1.080858</td>\n",
       "      <td>0.0</td>\n",
       "      <td>3.0</td>\n",
       "      <td>4.0</td>\n",
       "      <td>4.0</td>\n",
       "      <td>5.0</td>\n",
       "    </tr>\n",
       "    <tr>\n",
       "      <th>TBL2_iRAT (Module 2: iRAT - Requires Respondus LockDown Browser + Webcam (5 points))</th>\n",
       "      <td>623.0</td>\n",
       "      <td>2.717496</td>\n",
       "      <td>1.087993</td>\n",
       "      <td>0.0</td>\n",
       "      <td>2.0</td>\n",
       "      <td>3.0</td>\n",
       "      <td>3.0</td>\n",
       "      <td>5.0</td>\n",
       "    </tr>\n",
       "    <tr>\n",
       "      <th>TBL3_iRAT (Module 3: iRAT - Requires Respondus LockDown Browser + Webcam (5 points))</th>\n",
       "      <td>622.0</td>\n",
       "      <td>2.922830</td>\n",
       "      <td>1.210725</td>\n",
       "      <td>0.0</td>\n",
       "      <td>2.0</td>\n",
       "      <td>3.0</td>\n",
       "      <td>4.0</td>\n",
       "      <td>5.0</td>\n",
       "    </tr>\n",
       "    <tr>\n",
       "      <th>TBL1_tRAT (Module 1: tRAT -- Only one Team Member submits (15 points))</th>\n",
       "      <td>623.0</td>\n",
       "      <td>14.691814</td>\n",
       "      <td>1.141745</td>\n",
       "      <td>0.0</td>\n",
       "      <td>15.0</td>\n",
       "      <td>15.0</td>\n",
       "      <td>15.0</td>\n",
       "      <td>15.0</td>\n",
       "    </tr>\n",
       "    <tr>\n",
       "      <th>TBL2_tRAT (Module 2: tRAT -- Only one Team Member submits (15 points))</th>\n",
       "      <td>623.0</td>\n",
       "      <td>13.452648</td>\n",
       "      <td>1.702256</td>\n",
       "      <td>0.0</td>\n",
       "      <td>13.0</td>\n",
       "      <td>14.0</td>\n",
       "      <td>15.0</td>\n",
       "      <td>15.0</td>\n",
       "    </tr>\n",
       "    <tr>\n",
       "      <th>TBL3_tRAT (Module 3: tRAT -- Only one Team Member submits (15 points))</th>\n",
       "      <td>621.0</td>\n",
       "      <td>14.181965</td>\n",
       "      <td>1.350291</td>\n",
       "      <td>0.0</td>\n",
       "      <td>14.0</td>\n",
       "      <td>15.0</td>\n",
       "      <td>15.0</td>\n",
       "      <td>16.0</td>\n",
       "    </tr>\n",
       "  </tbody>\n",
       "</table>\n",
       "</div>"
      ],
      "text/plain": [
       "                                                    count          mean  \\\n",
       "UID                                                 623.0  20866.882825   \n",
       "Group                                               618.0     13.236246   \n",
       "Sum_Introversion                                    617.0     17.270665   \n",
       "Sum_Extraversion                                    617.0     17.505673   \n",
       "TBL1_iRAT (Module 1: iRAT -- Requires Respondus...  622.0      3.495177   \n",
       "TBL2_iRAT (Module 2: iRAT - Requires Respondus ...  623.0      2.717496   \n",
       "TBL3_iRAT (Module 3: iRAT - Requires Respondus ...  622.0      2.922830   \n",
       "TBL1_tRAT (Module 1: tRAT -- Only one Team Memb...  623.0     14.691814   \n",
       "TBL2_tRAT (Module 2: tRAT -- Only one Team Memb...  623.0     13.452648   \n",
       "TBL3_tRAT (Module 3: tRAT -- Only one Team Memb...  621.0     14.181965   \n",
       "\n",
       "                                                            std      min  \\\n",
       "UID                                                 1810.036715  10267.0   \n",
       "Group                                                  7.381205      1.0   \n",
       "Sum_Introversion                                       6.335045      2.0   \n",
       "Sum_Extraversion                                       6.517986      2.0   \n",
       "TBL1_iRAT (Module 1: iRAT -- Requires Respondus...     1.080858      0.0   \n",
       "TBL2_iRAT (Module 2: iRAT - Requires Respondus ...     1.087993      0.0   \n",
       "TBL3_iRAT (Module 3: iRAT - Requires Respondus ...     1.210725      0.0   \n",
       "TBL1_tRAT (Module 1: tRAT -- Only one Team Memb...     1.141745      0.0   \n",
       "TBL2_tRAT (Module 2: tRAT -- Only one Team Memb...     1.702256      0.0   \n",
       "TBL3_tRAT (Module 3: tRAT -- Only one Team Memb...     1.350291      0.0   \n",
       "\n",
       "                                                        25%      50%      75%  \\\n",
       "UID                                                 18998.5  21081.0  23155.5   \n",
       "Group                                                   7.0     13.0     20.0   \n",
       "Sum_Introversion                                       13.0     18.0     22.0   \n",
       "Sum_Extraversion                                       13.0     17.0     22.0   \n",
       "TBL1_iRAT (Module 1: iRAT -- Requires Respondus...      3.0      4.0      4.0   \n",
       "TBL2_iRAT (Module 2: iRAT - Requires Respondus ...      2.0      3.0      3.0   \n",
       "TBL3_iRAT (Module 3: iRAT - Requires Respondus ...      2.0      3.0      4.0   \n",
       "TBL1_tRAT (Module 1: tRAT -- Only one Team Memb...     15.0     15.0     15.0   \n",
       "TBL2_tRAT (Module 2: tRAT -- Only one Team Memb...     13.0     14.0     15.0   \n",
       "TBL3_tRAT (Module 3: tRAT -- Only one Team Memb...     14.0     15.0     15.0   \n",
       "\n",
       "                                                        max  \n",
       "UID                                                 23728.0  \n",
       "Group                                                  26.0  \n",
       "Sum_Introversion                                       33.0  \n",
       "Sum_Extraversion                                       34.0  \n",
       "TBL1_iRAT (Module 1: iRAT -- Requires Respondus...      5.0  \n",
       "TBL2_iRAT (Module 2: iRAT - Requires Respondus ...      5.0  \n",
       "TBL3_iRAT (Module 3: iRAT - Requires Respondus ...      5.0  \n",
       "TBL1_tRAT (Module 1: tRAT -- Only one Team Memb...     15.0  \n",
       "TBL2_tRAT (Module 2: tRAT -- Only one Team Memb...     15.0  \n",
       "TBL3_tRAT (Module 3: tRAT -- Only one Team Memb...     16.0  "
      ]
     },
     "execution_count": 7,
     "metadata": {},
     "output_type": "execute_result"
    }
   ],
   "source": [
    "F2Fmerged_raw.describe().transpose()"
   ]
  },
  {
   "cell_type": "markdown",
   "id": "0a2a3f9a",
   "metadata": {},
   "source": [
    "# Renaming Columns For TBLs 1-3"
   ]
  },
  {
   "cell_type": "code",
   "execution_count": 15,
   "id": "be0577d2",
   "metadata": {},
   "outputs": [],
   "source": [
    "F2Fmerged_raw.rename(columns = {'TBL1_iRAT (Module 1: iRAT -- Requires Respondus LockDown Browser (5 points))':'TBL1_iRAT', 'TBL2_iRAT (Module 2: iRAT - Requires Respondus LockDown Browser + Webcam (5 points))':'TBL2_iRAT','TBL3_iRAT (Module 3: iRAT - Requires Respondus LockDown Browser + Webcam (5 points))':'TBL3_iRAT', 'TBL1_tRAT (Module 1: tRAT -- Only one Team Member submits (15 points))':'TBL1_tRAT','TBL2_tRAT (Module 2: tRAT -- Only one Team Member submits (15 points))':'TBL2_tRAT', 'TBL3_tRAT (Module 3: tRAT -- Only one Team Member submits (15 points))':'TBL3_tRAT'}, inplace = True)"
   ]
  },
  {
   "cell_type": "markdown",
   "id": "dc26c4ba",
   "metadata": {},
   "source": [
    "# Viewing Updated Rename Columns"
   ]
  },
  {
   "cell_type": "code",
   "execution_count": 19,
   "id": "f82e6bed",
   "metadata": {},
   "outputs": [
    {
     "data": {
      "text/html": [
       "<div>\n",
       "<style scoped>\n",
       "    .dataframe tbody tr th:only-of-type {\n",
       "        vertical-align: middle;\n",
       "    }\n",
       "\n",
       "    .dataframe tbody tr th {\n",
       "        vertical-align: top;\n",
       "    }\n",
       "\n",
       "    .dataframe thead th {\n",
       "        text-align: right;\n",
       "    }\n",
       "</style>\n",
       "<table border=\"1\" class=\"dataframe\">\n",
       "  <thead>\n",
       "    <tr style=\"text-align: right;\">\n",
       "      <th></th>\n",
       "      <th>UID</th>\n",
       "      <th>Section</th>\n",
       "      <th>Group</th>\n",
       "      <th>Sum_Introversion</th>\n",
       "      <th>Sum_Extraversion</th>\n",
       "      <th>TBL1_iRAT</th>\n",
       "      <th>TBL2_iRAT</th>\n",
       "      <th>TBL3_iRAT</th>\n",
       "      <th>TBL1_tRAT</th>\n",
       "      <th>TBL2_tRAT</th>\n",
       "      <th>TBL3_tRAT</th>\n",
       "    </tr>\n",
       "  </thead>\n",
       "  <tbody>\n",
       "    <tr>\n",
       "      <th>0</th>\n",
       "      <td>10267.0</td>\n",
       "      <td>F2F_2021</td>\n",
       "      <td>24.0</td>\n",
       "      <td>24.0</td>\n",
       "      <td>11.0</td>\n",
       "      <td>3.0</td>\n",
       "      <td>2.0</td>\n",
       "      <td>5.0</td>\n",
       "      <td>15.0</td>\n",
       "      <td>14.0</td>\n",
       "      <td>15.0</td>\n",
       "    </tr>\n",
       "    <tr>\n",
       "      <th>1</th>\n",
       "      <td>23143.0</td>\n",
       "      <td>F2F_2021</td>\n",
       "      <td>8.0</td>\n",
       "      <td>20.0</td>\n",
       "      <td>13.0</td>\n",
       "      <td>3.0</td>\n",
       "      <td>2.0</td>\n",
       "      <td>3.0</td>\n",
       "      <td>15.0</td>\n",
       "      <td>14.0</td>\n",
       "      <td>15.0</td>\n",
       "    </tr>\n",
       "    <tr>\n",
       "      <th>2</th>\n",
       "      <td>23144.0</td>\n",
       "      <td>F2F_2021</td>\n",
       "      <td>8.0</td>\n",
       "      <td>NaN</td>\n",
       "      <td>NaN</td>\n",
       "      <td>4.0</td>\n",
       "      <td>2.0</td>\n",
       "      <td>3.0</td>\n",
       "      <td>15.0</td>\n",
       "      <td>14.0</td>\n",
       "      <td>15.0</td>\n",
       "    </tr>\n",
       "    <tr>\n",
       "      <th>3</th>\n",
       "      <td>23145.0</td>\n",
       "      <td>F2F_2021</td>\n",
       "      <td>5.0</td>\n",
       "      <td>18.0</td>\n",
       "      <td>18.0</td>\n",
       "      <td>4.0</td>\n",
       "      <td>2.0</td>\n",
       "      <td>2.0</td>\n",
       "      <td>15.0</td>\n",
       "      <td>15.0</td>\n",
       "      <td>14.0</td>\n",
       "    </tr>\n",
       "    <tr>\n",
       "      <th>4</th>\n",
       "      <td>23146.0</td>\n",
       "      <td>F2F_2021</td>\n",
       "      <td>21.0</td>\n",
       "      <td>26.0</td>\n",
       "      <td>8.0</td>\n",
       "      <td>4.0</td>\n",
       "      <td>2.0</td>\n",
       "      <td>2.0</td>\n",
       "      <td>15.0</td>\n",
       "      <td>12.0</td>\n",
       "      <td>15.0</td>\n",
       "    </tr>\n",
       "    <tr>\n",
       "      <th>...</th>\n",
       "      <td>...</td>\n",
       "      <td>...</td>\n",
       "      <td>...</td>\n",
       "      <td>...</td>\n",
       "      <td>...</td>\n",
       "      <td>...</td>\n",
       "      <td>...</td>\n",
       "      <td>...</td>\n",
       "      <td>...</td>\n",
       "      <td>...</td>\n",
       "      <td>...</td>\n",
       "    </tr>\n",
       "    <tr>\n",
       "      <th>619</th>\n",
       "      <td>19143.0</td>\n",
       "      <td>F2F_2019</td>\n",
       "      <td>3.0</td>\n",
       "      <td>29.0</td>\n",
       "      <td>5.0</td>\n",
       "      <td>3.0</td>\n",
       "      <td>4.0</td>\n",
       "      <td>5.0</td>\n",
       "      <td>15.0</td>\n",
       "      <td>14.0</td>\n",
       "      <td>15.0</td>\n",
       "    </tr>\n",
       "    <tr>\n",
       "      <th>620</th>\n",
       "      <td>19144.0</td>\n",
       "      <td>F2F_2019</td>\n",
       "      <td>8.0</td>\n",
       "      <td>18.0</td>\n",
       "      <td>17.0</td>\n",
       "      <td>4.0</td>\n",
       "      <td>4.0</td>\n",
       "      <td>4.0</td>\n",
       "      <td>15.0</td>\n",
       "      <td>14.0</td>\n",
       "      <td>14.0</td>\n",
       "    </tr>\n",
       "    <tr>\n",
       "      <th>621</th>\n",
       "      <td>19145.0</td>\n",
       "      <td>F2F_2019</td>\n",
       "      <td>10.0</td>\n",
       "      <td>29.0</td>\n",
       "      <td>6.0</td>\n",
       "      <td>4.0</td>\n",
       "      <td>4.0</td>\n",
       "      <td>4.0</td>\n",
       "      <td>14.0</td>\n",
       "      <td>15.0</td>\n",
       "      <td>13.0</td>\n",
       "    </tr>\n",
       "    <tr>\n",
       "      <th>622</th>\n",
       "      <td>19153.0</td>\n",
       "      <td>F2F_2019</td>\n",
       "      <td>15.0</td>\n",
       "      <td>15.0</td>\n",
       "      <td>18.0</td>\n",
       "      <td>5.0</td>\n",
       "      <td>4.0</td>\n",
       "      <td>4.0</td>\n",
       "      <td>15.0</td>\n",
       "      <td>14.0</td>\n",
       "      <td>15.0</td>\n",
       "    </tr>\n",
       "    <tr>\n",
       "      <th>623</th>\n",
       "      <td>NaN</td>\n",
       "      <td>NaN</td>\n",
       "      <td>NaN</td>\n",
       "      <td>NaN</td>\n",
       "      <td>NaN</td>\n",
       "      <td>5.0</td>\n",
       "      <td>5.0</td>\n",
       "      <td>5.0</td>\n",
       "      <td>15.0</td>\n",
       "      <td>15.0</td>\n",
       "      <td>15.0</td>\n",
       "    </tr>\n",
       "  </tbody>\n",
       "</table>\n",
       "<p>624 rows × 11 columns</p>\n",
       "</div>"
      ],
      "text/plain": [
       "         UID   Section  Group  Sum_Introversion  Sum_Extraversion  TBL1_iRAT  \\\n",
       "0    10267.0  F2F_2021   24.0              24.0              11.0        3.0   \n",
       "1    23143.0  F2F_2021    8.0              20.0              13.0        3.0   \n",
       "2    23144.0  F2F_2021    8.0               NaN               NaN        4.0   \n",
       "3    23145.0  F2F_2021    5.0              18.0              18.0        4.0   \n",
       "4    23146.0  F2F_2021   21.0              26.0               8.0        4.0   \n",
       "..       ...       ...    ...               ...               ...        ...   \n",
       "619  19143.0  F2F_2019    3.0              29.0               5.0        3.0   \n",
       "620  19144.0  F2F_2019    8.0              18.0              17.0        4.0   \n",
       "621  19145.0  F2F_2019   10.0              29.0               6.0        4.0   \n",
       "622  19153.0  F2F_2019   15.0              15.0              18.0        5.0   \n",
       "623      NaN       NaN    NaN               NaN               NaN        5.0   \n",
       "\n",
       "     TBL2_iRAT  TBL3_iRAT  TBL1_tRAT  TBL2_tRAT  TBL3_tRAT  \n",
       "0          2.0        5.0       15.0       14.0       15.0  \n",
       "1          2.0        3.0       15.0       14.0       15.0  \n",
       "2          2.0        3.0       15.0       14.0       15.0  \n",
       "3          2.0        2.0       15.0       15.0       14.0  \n",
       "4          2.0        2.0       15.0       12.0       15.0  \n",
       "..         ...        ...        ...        ...        ...  \n",
       "619        4.0        5.0       15.0       14.0       15.0  \n",
       "620        4.0        4.0       15.0       14.0       14.0  \n",
       "621        4.0        4.0       14.0       15.0       13.0  \n",
       "622        4.0        4.0       15.0       14.0       15.0  \n",
       "623        5.0        5.0       15.0       15.0       15.0  \n",
       "\n",
       "[624 rows x 11 columns]"
      ]
     },
     "execution_count": 19,
     "metadata": {},
     "output_type": "execute_result"
    }
   ],
   "source": [
    "F2Fmerged_raw"
   ]
  },
  {
   "cell_type": "markdown",
   "id": "b8a4718f",
   "metadata": {},
   "source": [
    "# Viewing Arrays in Section, Group and TBLs 1-3"
   ]
  },
  {
   "cell_type": "code",
   "execution_count": 20,
   "id": "c12ebbec",
   "metadata": {},
   "outputs": [
    {
     "data": {
      "text/plain": [
       "array(['F2F_2021', 'F2F_2020', 'F2F_2019', nan], dtype=object)"
      ]
     },
     "execution_count": 20,
     "metadata": {},
     "output_type": "execute_result"
    }
   ],
   "source": [
    "F2Fmerged_raw.Section.unique()"
   ]
  },
  {
   "cell_type": "code",
   "execution_count": 21,
   "id": "cc573aad",
   "metadata": {},
   "outputs": [
    {
     "data": {
      "text/plain": [
       "array([24.,  8.,  5., 21.,  9., 11., 14., 22., 13., 20.,  1., 16., 25.,\n",
       "        6., 12.,  7.,  3., 19., 18., 23.,  4., 10., 17., 15.,  2., nan,\n",
       "       26.])"
      ]
     },
     "execution_count": 21,
     "metadata": {},
     "output_type": "execute_result"
    }
   ],
   "source": [
    "F2Fmerged_raw.Group.unique()"
   ]
  },
  {
   "cell_type": "code",
   "execution_count": 22,
   "id": "42b398b5",
   "metadata": {},
   "outputs": [
    {
     "data": {
      "text/plain": [
       "array([ 3.,  4.,  5.,  2.,  1.,  0., nan])"
      ]
     },
     "execution_count": 22,
     "metadata": {},
     "output_type": "execute_result"
    }
   ],
   "source": [
    "F2Fmerged_raw.TBL1_iRAT.unique()"
   ]
  },
  {
   "cell_type": "code",
   "execution_count": 23,
   "id": "7eaa0c0d",
   "metadata": {},
   "outputs": [
    {
     "data": {
      "text/plain": [
       "array([ 2.,  3.,  0.,  4.,  1., nan,  5.])"
      ]
     },
     "execution_count": 23,
     "metadata": {},
     "output_type": "execute_result"
    }
   ],
   "source": [
    "F2Fmerged_raw.TBL2_iRAT.unique()"
   ]
  },
  {
   "cell_type": "code",
   "execution_count": 24,
   "id": "ef07c70c",
   "metadata": {},
   "outputs": [
    {
     "data": {
      "text/plain": [
       "array([ 5.,  3.,  2.,  4.,  1.,  0., nan])"
      ]
     },
     "execution_count": 24,
     "metadata": {},
     "output_type": "execute_result"
    }
   ],
   "source": [
    "F2Fmerged_raw.TBL3_iRAT.unique()"
   ]
  },
  {
   "cell_type": "code",
   "execution_count": 25,
   "id": "b94a1339",
   "metadata": {},
   "outputs": [
    {
     "data": {
      "text/plain": [
       "array([15., 12.,  0., 14., nan])"
      ]
     },
     "execution_count": 25,
     "metadata": {},
     "output_type": "execute_result"
    }
   ],
   "source": [
    "F2Fmerged_raw.TBL1_tRAT.unique()"
   ]
  },
  {
   "cell_type": "code",
   "execution_count": 26,
   "id": "51afe81e",
   "metadata": {},
   "outputs": [
    {
     "data": {
      "text/plain": [
       "array([14., 15., 12., 13., 11.,  8., nan,  0., 10.])"
      ]
     },
     "execution_count": 26,
     "metadata": {},
     "output_type": "execute_result"
    }
   ],
   "source": [
    "F2Fmerged_raw.TBL2_tRAT.unique()"
   ]
  },
  {
   "cell_type": "code",
   "execution_count": 27,
   "id": "5610563d",
   "metadata": {},
   "outputs": [
    {
     "data": {
      "text/plain": [
       "array([15., 14., 12., 13., nan,  0., 10., 16.])"
      ]
     },
     "execution_count": 27,
     "metadata": {},
     "output_type": "execute_result"
    }
   ],
   "source": [
    "F2Fmerged_raw.TBL3_tRAT.unique()"
   ]
  },
  {
   "cell_type": "code",
   "execution_count": null,
   "id": "d25aa426",
   "metadata": {},
   "outputs": [],
   "source": []
  }
 ],
 "metadata": {
  "kernelspec": {
   "display_name": "Python 3",
   "language": "python",
   "name": "python3"
  },
  "language_info": {
   "codemirror_mode": {
    "name": "ipython",
    "version": 3
   },
   "file_extension": ".py",
   "mimetype": "text/x-python",
   "name": "python",
   "nbconvert_exporter": "python",
   "pygments_lexer": "ipython3",
   "version": "3.8.8"
  }
 },
 "nbformat": 4,
 "nbformat_minor": 5
}
