{
 "cells": [
  {
   "cell_type": "code",
   "execution_count": null,
   "id": "8eaba059",
   "metadata": {},
   "outputs": [],
   "source": [
    "## Week 2\n",
    "## Eternals Team\n",
    "## Team Members: Jasjot Dhanhal, Samantha Diaz, Destiny Riley, Brandy M. Roane, Amy Swanson, and Stephanie VanLeishout"
   ]
  },
  {
   "cell_type": "code",
   "execution_count": null,
   "id": "f707f5e6",
   "metadata": {},
   "outputs": [],
   "source": [
    "## Summary Document"
   ]
  },
  {
   "cell_type": "code",
   "execution_count": null,
   "id": "7e44de2a",
   "metadata": {},
   "outputs": [],
   "source": [
    "## Scrum Master for next Week\n",
    "### Samantha Diaz"
   ]
  },
  {
   "cell_type": "code",
   "execution_count": null,
   "id": "ad276f10",
   "metadata": {},
   "outputs": [],
   "source": [
    "## List at least 5 things the team did well and will continue doing\n",
    "### 1. Coming together as a team\n",
    "### 2. Our Team Members have been flexible and accomodating to allow our Team to still progress\n",
    "### 3. Most Team Members have done a great job checking in on Slack\n",
    "### 4. Team Members assisting with knowledge gaps in Trello and GitHub\n",
    "### 5. Scrum Master has done well in the role of monitoring and holding Team Members accountable"
   ]
  },
  {
   "cell_type": "code",
   "execution_count": null,
   "id": "c1a4ca10",
   "metadata": {},
   "outputs": [],
   "source": [
    "## List at least 3 things the team did poorly and how you will mitigate them next sprint\n",
    "### 1. Improve daily consistency in updating Team on progress for the Daily Standup (via Slack)\n",
    "### 2. Improve use of GitHub including the ReadMe document\n",
    "### 3. Improve real-time communication by having a means outside of slack (text messaging or email) to access each Team Member"
   ]
  },
  {
   "cell_type": "code",
   "execution_count": null,
   "id": "c6ca1e84",
   "metadata": {},
   "outputs": [],
   "source": [
    "## List shout-outs to any team members for excelling in any way\n",
    "### Amy has done a superb job in being our rat herder (aka Scrum Master)\n",
    "### Destiny has done a wonderful job in jumping in to start data wrangling the data\n",
    "### Brandy did great culling data\n",
    "### Stephanie and Jas has done well staying looped in despite personal factors interferring\n",
    "### Samantha did a wonderful job tackling finding potential datasets"
   ]
  },
  {
   "cell_type": "code",
   "execution_count": null,
   "id": "4c896061",
   "metadata": {},
   "outputs": [],
   "source": [
    "## What did you learn as a team this week?\n",
    "### We learned how to apply what we've learned in the courses to actual data to solve problems.\n",
    "### We expanded our knowledge base and were empowered to seek out additional resources."
   ]
  },
  {
   "cell_type": "code",
   "execution_count": null,
   "id": "027b98c2",
   "metadata": {},
   "outputs": [],
   "source": [
    "## What did you learn as an individual this week?\n",
    "### Amy: Continue to keep a positive attitude and allowing space and flexibility for different timelines\n",
    "### Brandy: Learned to keep the Team better updated on aspects I was working on.\n",
    "### Destiny: Learned that I can code and get in the actual data and make things happen. Learned I can really actually apply this stuff.\n",
    "### Jas: Learned more about GitHub.\n",
    "### Samantha: As an individual, I am still learning to understand GitHub. I am still struggling with it but I am not giving up.\n",
    "### Stephanie: Learned that our Team has a lot of patience and kept a positive attitude throughout everything. Also learned to really check out data before you accept it."
   ]
  },
  {
   "cell_type": "code",
   "execution_count": null,
   "id": "909c810a",
   "metadata": {},
   "outputs": [],
   "source": [
    "## Code Review\n",
    "## Your code will be graded on the following four criteria:"
   ]
  },
  {
   "cell_type": "code",
   "execution_count": null,
   "id": "0bfd6256",
   "metadata": {},
   "outputs": [],
   "source": [
    "### Does your code run smoothly from the top to the bottom of the file? Yes\n",
    "### Do you have comments explaining what you're doing before you do it? Yes\n",
    "### Are you working on the appropriate weekly task (i.e. data wrangling)? Yes\n",
    "### Do you have comments explaining your interpretation of the code results (if applicable) after the code?  Not applicable yet"
   ]
  }
 ],
 "metadata": {
  "kernelspec": {
   "display_name": "Python 3",
   "language": "python",
   "name": "python3"
  },
  "language_info": {
   "codemirror_mode": {
    "name": "ipython",
    "version": 3
   },
   "file_extension": ".py",
   "mimetype": "text/x-python",
   "name": "python",
   "nbconvert_exporter": "python",
   "pygments_lexer": "ipython3",
   "version": "3.8.8"
  }
 },
 "nbformat": 4,
 "nbformat_minor": 5
}
