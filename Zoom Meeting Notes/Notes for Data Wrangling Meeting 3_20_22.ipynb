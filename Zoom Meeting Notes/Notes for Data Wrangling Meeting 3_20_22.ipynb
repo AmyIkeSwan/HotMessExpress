{
 "cells": [
  {
   "cell_type": "markdown",
   "id": "1b9683fb",
   "metadata": {},
   "source": [
    "## Data Wrangling Notes"
   ]
  },
  {
   "cell_type": "code",
   "execution_count": 2,
   "id": "3a2f3503",
   "metadata": {},
   "outputs": [],
   "source": [
    "## 1. Find out how many students (each year) started the program subtracted by how many dropped.\n",
    "## 7999 is code for missed work. 7999 on iRAT score doesn't mean student dropped\n",
    "## 9999 could mean dropped if in the tRAT scoring"
   ]
  },
  {
   "cell_type": "markdown",
   "id": "c65a4392",
   "metadata": {},
   "source": [
    "* This will answer the question of our sample size. Student drop due to moving on to graduate schools etc."
   ]
  },
  {
   "cell_type": "code",
   "execution_count": 3,
   "id": "b6a76578",
   "metadata": {},
   "outputs": [],
   "source": [
    "## 2. We only need to use scores for TBLs 1-3 we can drop 4"
   ]
  },
  {
   "cell_type": "markdown",
   "id": "4f87b902",
   "metadata": {},
   "source": [
    "* because of ceiling effect"
   ]
  },
  {
   "cell_type": "code",
   "execution_count": 4,
   "id": "c563592f",
   "metadata": {},
   "outputs": [],
   "source": [
    "## 3. Once #1 is accomplished all 7999 and 9999 info could be dropped from data"
   ]
  },
  {
   "cell_type": "markdown",
   "id": "f48eeea1",
   "metadata": {},
   "source": [
    "* 7999 & 9999 are our NA data that needs to be removed to clean up for analysis"
   ]
  },
  {
   "cell_type": "code",
   "execution_count": 5,
   "id": "fc3b0739",
   "metadata": {},
   "outputs": [],
   "source": [
    "## 4. Separate data by cohort (year) 2019, 2020, 2021"
   ]
  },
  {
   "cell_type": "markdown",
   "id": "6aa58d10",
   "metadata": {},
   "source": [
    "* needed to compare year over year"
   ]
  },
  {
   "cell_type": "code",
   "execution_count": 6,
   "id": "db33481b",
   "metadata": {},
   "outputs": [],
   "source": [
    "## 5. Seperate data by Group Number per cohort (year)"
   ]
  },
  {
   "cell_type": "markdown",
   "id": "6a226c17",
   "metadata": {},
   "source": [
    "* need to compare the individual to the group. This is needed for each cohort year as well."
   ]
  },
  {
   "cell_type": "code",
   "execution_count": null,
   "id": "0316306e",
   "metadata": {},
   "outputs": [],
   "source": [
    "## 6. Individual average iRAT score to Group (team) tRAT score average"
   ]
  },
  {
   "cell_type": "markdown",
   "id": "ce93c8bd",
   "metadata": {},
   "source": [
    "*Once groups are separated then we can analze averages on scores and compare individual to team etc."
   ]
  },
  {
   "cell_type": "code",
   "execution_count": null,
   "id": "2967a0c0",
   "metadata": {},
   "outputs": [],
   "source": []
  }
 ],
 "metadata": {
  "kernelspec": {
   "display_name": "Python 3",
   "language": "python",
   "name": "python3"
  },
  "language_info": {
   "codemirror_mode": {
    "name": "ipython",
    "version": 3
   },
   "file_extension": ".py",
   "mimetype": "text/x-python",
   "name": "python",
   "nbconvert_exporter": "python",
   "pygments_lexer": "ipython3",
   "version": "3.8.8"
  }
 },
 "nbformat": 4,
 "nbformat_minor": 5
}
