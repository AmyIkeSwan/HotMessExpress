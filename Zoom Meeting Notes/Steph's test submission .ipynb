{
 "cells": [
  {
   "cell_type": "markdown",
   "id": "276d8c72",
   "metadata": {},
   "source": [
    "#Hi I guys I believe I am learning how to navigate GitHub "
   ]
  },
  {
   "cell_type": "code",
   "execution_count": null,
   "id": "010db55d",
   "metadata": {},
   "outputs": [],
   "source": [
    "# Sam was here\n",
    "\n",
    "# Hello Thanks fro the response "
   ]
  }
 ],
 "metadata": {
  "kernelspec": {
   "display_name": "Python 3 (ipykernel)",
   "language": "python",
   "name": "python3"
  },
  "language_info": {
   "codemirror_mode": {
    "name": "ipython",
    "version": 3
   },
   "file_extension": ".py",
   "mimetype": "text/x-python",
   "name": "python",
   "nbconvert_exporter": "python",
   "pygments_lexer": "ipython3",
   "version": "3.9.7"
  }
 },
 "nbformat": 4,
 "nbformat_minor": 5
}
