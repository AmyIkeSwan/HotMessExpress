{
 "cells": [
  {
   "cell_type": "markdown",
   "id": "38e82f61-8b77-4251-884c-95dc0de0ff7c",
   "metadata": {},
   "source": [
    "## Eternals Final Project - Week Three"
   ]
  },
  {
   "cell_type": "markdown",
   "id": "0f3c21bc-e903-42ed-bf19-ae9aa51f52d6",
   "metadata": {},
   "source": [
    "### Summary Document"
   ]
  },
  {
   "cell_type": "markdown",
   "id": "f7766ed2-4eb0-4e8d-a11b-15b83ece82b4",
   "metadata": {},
   "source": [
    "#### Scrum Master for Next Week"
   ]
  },
  {
   "cell_type": "code",
   "execution_count": 2,
   "id": "34eed7c1-7327-4a9f-ab34-f0c9eddd8ff3",
   "metadata": {},
   "outputs": [
    {
     "name": "stdout",
     "output_type": "stream",
     "text": [
      "Our Scrum Master for next week is Brandy Roane.\n"
     ]
    }
   ],
   "source": [
    "print(\"Our Scrum Master for next week is Brandy Roane.\")"
   ]
  },
  {
   "cell_type": "markdown",
   "id": "125a78c4-2ab3-49a8-b76a-e6199a9c7e6a",
   "metadata": {},
   "source": [
    "#### 5 things we did well as a team and will continue"
   ]
  },
  {
   "cell_type": "code",
   "execution_count": 3,
   "id": "254505c2-54ad-430c-8a7d-c01743529106",
   "metadata": {},
   "outputs": [
    {
     "name": "stdout",
     "output_type": "stream",
     "text": [
      "1. We continued our strong communication norms.\n"
     ]
    }
   ],
   "source": [
    "print(\"1. We continued our strong communication norms.\")"
   ]
  },
  {
   "cell_type": "code",
   "execution_count": 4,
   "id": "dba5a959-a438-46dd-b91b-6401d74cf856",
   "metadata": {},
   "outputs": [
    {
     "name": "stdout",
     "output_type": "stream",
     "text": [
      "2. Despite losing a member, we held things together and kept progressing.\n"
     ]
    }
   ],
   "source": [
    "print(\"2. Despite losing a member, we held things together and kept progressing.\")"
   ]
  },
  {
   "cell_type": "code",
   "execution_count": 5,
   "id": "2bb56fd1-ce74-4924-b5af-d7f4f80bcec4",
   "metadata": {},
   "outputs": [
    {
     "name": "stdout",
     "output_type": "stream",
     "text": [
      "3. Multiple members have contributed attempts at data wrangling and analysis, whether successful or not.\n"
     ]
    }
   ],
   "source": [
    "print(\"3. Multiple members have contributed attempts at data wrangling and analysis, whether successful or not.\")"
   ]
  },
  {
   "cell_type": "code",
   "execution_count": 6,
   "id": "d7bcb837-1baf-4fe4-a05d-7b5f09fec8ac",
   "metadata": {},
   "outputs": [
    {
     "name": "stdout",
     "output_type": "stream",
     "text": [
      "4. We fixed our GitHub repository.\n"
     ]
    }
   ],
   "source": [
    "print(\"4. We fixed our GitHub repository.\")"
   ]
  },
  {
   "cell_type": "code",
   "execution_count": 7,
   "id": "93886609-324e-420f-b442-909638aa9f3c",
   "metadata": {},
   "outputs": [
    {
     "name": "stdout",
     "output_type": "stream",
     "text": [
      "5. We have no forks on our new HotMessExpress GitHub.\n"
     ]
    }
   ],
   "source": [
    "print(\"5. We have no forks on our new HotMessExpress GitHub.\")"
   ]
  },
  {
   "cell_type": "markdown",
   "id": "b0482ea8-74e4-4813-b073-3f83464f319d",
   "metadata": {},
   "source": [
    "#### 3 things we need to improve upon"
   ]
  },
  {
   "cell_type": "code",
   "execution_count": 8,
   "id": "46806795-71b5-48cd-8463-777a1ddf5b6c",
   "metadata": {},
   "outputs": [
    {
     "name": "stdout",
     "output_type": "stream",
     "text": [
      "1. We need more successful data wrangling attempts.\n"
     ]
    }
   ],
   "source": [
    "print(\"1. We need more successful data wrangling attempts.\")"
   ]
  },
  {
   "cell_type": "code",
   "execution_count": 9,
   "id": "9200f44c-6979-452a-bf45-c70978b96d88",
   "metadata": {},
   "outputs": [
    {
     "name": "stdout",
     "output_type": "stream",
     "text": [
      "2. We need to better figure out when each of us has time to work so we know when time-sensitive materials will be delivered.\n"
     ]
    }
   ],
   "source": [
    "print(\"2. We need to better figure out when each of us has time to work so we know when time-sensitive materials will be delivered.\")"
   ]
  },
  {
   "cell_type": "code",
   "execution_count": 10,
   "id": "8cefb083-7742-4686-8ae8-4c2e1f471d52",
   "metadata": {},
   "outputs": [
    {
     "name": "stdout",
     "output_type": "stream",
     "text": [
      "3. We still need to learn GitHub and ensure we are putting data and work in the correct spots.\n"
     ]
    }
   ],
   "source": [
    "print(\"3. We still need to learn GitHub and ensure we are putting data and work in the correct spots.\")"
   ]
  },
  {
   "cell_type": "markdown",
   "id": "d7c7f3c3-99da-4c0b-aeb2-d3a24ede5570",
   "metadata": {},
   "source": [
    "#### Member Shout-Outs"
   ]
  },
  {
   "cell_type": "code",
   "execution_count": 11,
   "id": "4ecd365f-eaad-45f7-8b74-b8cab6d655d7",
   "metadata": {},
   "outputs": [
    {
     "name": "stdout",
     "output_type": "stream",
     "text": [
      "Samantha and Amy did an amazing job turning in wrangled data.\n"
     ]
    }
   ],
   "source": [
    "print(\"Samantha and Amy did an amazing job turning in wrangled data.\")"
   ]
  },
  {
   "cell_type": "code",
   "execution_count": 12,
   "id": "5e67c1cd-f24b-420b-a6ba-3d03d31ceed5",
   "metadata": {},
   "outputs": [
    {
     "name": "stdout",
     "output_type": "stream",
     "text": [
      "Brandy did an excellent job of handling our inactive member.\n"
     ]
    }
   ],
   "source": [
    "print(\"Brandy did an excellent job of handling our inactive member.\")"
   ]
  },
  {
   "cell_type": "code",
   "execution_count": 13,
   "id": "41671405-760a-4faf-9081-4d308bdd56ee",
   "metadata": {},
   "outputs": [
    {
     "name": "stdout",
     "output_type": "stream",
     "text": [
      "Stephanie's enthusiasm for jumping into exploratory analysis encouraged the team along in our process.\n"
     ]
    }
   ],
   "source": [
    "print(\"Stephanie's enthusiasm for jumping into exploratory analysis encouraged the team along in our process.\")"
   ]
  },
  {
   "cell_type": "code",
   "execution_count": 14,
   "id": "147e3453-cfad-41be-8f35-c30f763be257",
   "metadata": {},
   "outputs": [
    {
     "name": "stdout",
     "output_type": "stream",
     "text": [
      "Destiny organized and coded the Summary Document for lesson three.\n"
     ]
    }
   ],
   "source": [
    "print(\"Destiny organized and coded the Summary Document for lesson three.\")"
   ]
  },
  {
   "cell_type": "markdown",
   "id": "d9a8509f-233c-4479-88cf-a791fe013c91",
   "metadata": {},
   "source": [
    "#### Team Takeaways"
   ]
  },
  {
   "cell_type": "code",
   "execution_count": 15,
   "id": "df014e37-2b10-4f9a-991a-9c2a61d07229",
   "metadata": {},
   "outputs": [
    {
     "name": "stdout",
     "output_type": "stream",
     "text": [
      "We learned the breadth of our resilence this week by challenging a member who wasn't contributing to the level we would have liked and grew stronger as a team in handling the issue.\n"
     ]
    }
   ],
   "source": [
    "print(\"We learned the breadth of our resilence this week by challenging a member who wasn't contributing to the level we would have liked and grew stronger as a team in handling the issue.\")"
   ]
  },
  {
   "cell_type": "markdown",
   "id": "7330e9af-9811-4daa-9681-6faebb592ac6",
   "metadata": {},
   "source": [
    "#### Individual Takeaways"
   ]
  },
  {
   "cell_type": "code",
   "execution_count": 16,
   "id": "388f9375-7444-4387-be45-092c6a718112",
   "metadata": {},
   "outputs": [
    {
     "name": "stdout",
     "output_type": "stream",
     "text": [
      "Amy learned more about GitHub repository management.\n"
     ]
    }
   ],
   "source": [
    "print(\"Amy learned more about GitHub repository management.\")"
   ]
  },
  {
   "cell_type": "code",
   "execution_count": 17,
   "id": "61c43976-c96f-4ece-b068-2f9b2879bffc",
   "metadata": {},
   "outputs": [
    {
     "name": "stdout",
     "output_type": "stream",
     "text": [
      "Brandy learned that she can perserve through outrageous weather and that GitHub has a bit of a learning curve.\n"
     ]
    }
   ],
   "source": [
    "print(\"Brandy learned that she can perserve through outrageous weather and that GitHub has a bit of a learning curve.\")"
   ]
  },
  {
   "cell_type": "code",
   "execution_count": 18,
   "id": "ce587015-096c-4803-b0c7-1539d784e7a7",
   "metadata": {},
   "outputs": [
    {
     "name": "stdout",
     "output_type": "stream",
     "text": [
      "Stephanie learned how to avoid forks and delete repositories.\n"
     ]
    }
   ],
   "source": [
    "print(\"Stephanie learned how to avoid forks and delete repositories.\")"
   ]
  },
  {
   "cell_type": "code",
   "execution_count": 19,
   "id": "8d3cea14-ed6b-4fd3-8094-7161caeaf72d",
   "metadata": {},
   "outputs": [
    {
     "name": "stdout",
     "output_type": "stream",
     "text": [
      "Samantha learned her way around GitHub in addition to playing with data wrangling and exploratory analysis.\n"
     ]
    }
   ],
   "source": [
    "print(\"Samantha learned her way around GitHub in addition to playing with data wrangling and exploratory analysis.\")"
   ]
  },
  {
   "cell_type": "code",
   "execution_count": 20,
   "id": "343b587a-c181-42cf-989d-e4bbfb3936b9",
   "metadata": {},
   "outputs": [
    {
     "name": "stdout",
     "output_type": "stream",
     "text": [
      "Destiny learned how to format our summary document in Python and to stop leaving her forks everywhere on GitHub!\n"
     ]
    }
   ],
   "source": [
    "print(\"Destiny learned how to format our summary document in Python and to stop leaving her forks everywhere on GitHub!\")"
   ]
  }
 ],
 "metadata": {
  "kernelspec": {
   "display_name": "Python 3 (ipykernel)",
   "language": "python",
   "name": "python3"
  },
  "language_info": {
   "codemirror_mode": {
    "name": "ipython",
    "version": 3
   },
   "file_extension": ".py",
   "mimetype": "text/x-python",
   "name": "python",
   "nbconvert_exporter": "python",
   "pygments_lexer": "ipython3",
   "version": "3.9.7"
  }
 },
 "nbformat": 4,
 "nbformat_minor": 5
}
