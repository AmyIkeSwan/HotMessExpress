{
 "cells": [
  {
   "cell_type": "code",
   "execution_count": null,
   "id": "8abf30c3",
   "metadata": {},
   "outputs": [],
   "source": [
    "## Data Wrangling Notes for f2fMerged_raw dataset\n",
    "## Notes created by Brandy M. Roane"
   ]
  },
  {
   "cell_type": "code",
   "execution_count": null,
   "id": "8917e04c",
   "metadata": {},
   "outputs": [],
   "source": [
    "## Original datafile\n",
    "F2Fmerged_raw = pd.read_csv(\"C:/Users/Brandy/Documents/GitHub/HotMessExpress/users/brandy/1_Data/2_Data_prep/f2fMerged_raw.csv\")"
   ]
  },
  {
   "cell_type": "code",
   "execution_count": null,
   "id": "6321bec5",
   "metadata": {},
   "outputs": [],
   "source": [
    "## Data Wrangling (initially done in excel and documented below)"
   ]
  },
  {
   "cell_type": "code",
   "execution_count": null,
   "id": "6e8a1f7d",
   "metadata": {},
   "outputs": [],
   "source": [
    "## Section variable - renamed \"Cohort\" and recoded as year only versus string (Section --> Cohort)\n",
    "## Section variable removed\n",
    "## Columns not to pertinent to the questions to be addressed removed\n",
    "## New datafile saved as\n",
    "F2Fmerged_prep1 = pd.read_csv(\"C:/Users/Brandy/Documents/GitHub/HotMessExpress/users/brandy/1_Data/2_Data_prep/f2fMerged_prep1.csv\")"
   ]
  },
  {
   "cell_type": "code",
   "execution_count": null,
   "id": "9c8fb5f7",
   "metadata": {},
   "outputs": [],
   "source": [
    "## Reviewing missing data\n",
    "## Group: 5 students missing group number for TBLs (2019: 3, 2020: 1, 2021: 1)\n",
    "## 5 rows removed\n",
    "## New datafile saved as\n",
    "F2Fmerged_prep2 = pd.read_csv(\"C:/Users/Brandy/Documents/GitHub/HotMessExpress/users/brandy/1_Data/2_Data_prep/f2fMerged_prep2.csv\")"
   ]
  },
  {
   "cell_type": "code",
   "execution_count": null,
   "id": "18ecaafc",
   "metadata": {},
   "outputs": [],
   "source": [
    "## Sum_Introversion: 1 student missing data on introversion/extroversion scale (2021)\n",
    "## Sum_Extroversion: 1 student missing data on introversion/extroversion scale (2021)\n",
    "## 1 row removed\n",
    "## New datafile saved as\n",
    "F2Fmerged_prep3 = pd.read_csv(\"C:/Users/Brandy/Documents/GitHub/HotMessExpress/users/brandy/1_Data/2_Data_prep/f2fMerged_prep3.csv\")"
   ]
  },
  {
   "cell_type": "code",
   "execution_count": null,
   "id": "a862b81d",
   "metadata": {},
   "outputs": [],
   "source": [
    "## TBL1_iRAT: 2 students missing data (2019 - student in group 15, 2021 - student in group 24)\n",
    "## 2 rows removed\n",
    "## New datafile saved as\n",
    "F2Fmerged_prep4 = pd.read_csv(\"C:/Users/Brandy/Documents/GitHub/HotMessExpress/users/brandy/1_Data/2_Data_prep/f2fMerged_prep4.csv\")"
   ]
  },
  {
   "cell_type": "code",
   "execution_count": null,
   "id": "4d315ead",
   "metadata": {},
   "outputs": [],
   "source": [
    "## Identified a row with missing student data (UID, Group, Cohort, Introversion, Extroversion)\n",
    "## 1 row removed\n",
    "## New datafile saved as\n",
    "F2Fmerged_prep5 = pd.read_csv(\"C:/Users/Brandy/Documents/GitHub/HotMessExpress/users/brandy/1_Data/2_Data_prep/f2fMerged_prep5.csv\")"
   ]
  },
  {
   "cell_type": "code",
   "execution_count": null,
   "id": "914b8921",
   "metadata": {},
   "outputs": [],
   "source": [
    "## TBL2_iRAT: 1 students missing data (2021 - student in group 7)\n",
    "## 1 row removed\n",
    "## New datafile saved as\n",
    "F2Fmerged_prep6 = pd.read_csv(\"C:/Users/Brandy/Documents/GitHub/HotMessExpress/users/brandy/1_Data/2_Data_prep/f2fMerged_prep6.csv\")"
   ]
  },
  {
   "cell_type": "code",
   "execution_count": null,
   "id": "e3aa402e",
   "metadata": {},
   "outputs": [],
   "source": [
    "## TBL3_iRAT: 2 students missing data (2021 - student in group 4 and student in group 14)\n",
    "## 2 rows removed\n",
    "## New datafile saved as\n",
    "F2Fmerged_prep7 = pd.read_csv(\"C:/Users/Brandy/Documents/GitHub/HotMessExpress/users/brandy/1_Data/2_Data_prep/f2fMerged_prep7.csv\")"
   ]
  },
  {
   "cell_type": "code",
   "execution_count": null,
   "id": "fed66e99",
   "metadata": {},
   "outputs": [],
   "source": [
    "## TBL1_tRAT: 0 students missing data\n",
    "## TBL2_tRAT: 0 students missing data\n",
    "## TBL3_tRAT: 0 students missing data\n",
    "## 0 rows removed\n",
    "## Resorted datafile by cohort, group, UID\n",
    "## New datafile saved as\n",
    "F2Fmerged_prep8 = pd.read_csv(\"C:/Users/Brandy/Documents/GitHub/HotMessExpress/users/brandy/1_Data/2_Data_prep/f2fMerged_prep8.csv\")"
   ]
  },
  {
   "cell_type": "code",
   "execution_count": null,
   "id": "d3a54502",
   "metadata": {},
   "outputs": [],
   "source": [
    "## Formatted all columns as numbers with 0 decimal places\n",
    "## New datafile saved as\n",
    "F2Fmerged_prep9 = pd.read_csv(\"C:/Users/Brandy/Documents/GitHub/HotMessExpress/users/brandy/1_Data/2_Data_prep/f2fMerged_prep9.csv\")"
   ]
  },
  {
   "cell_type": "code",
   "execution_count": null,
   "id": "a3480d33",
   "metadata": {},
   "outputs": [],
   "source": [
    "## Removed variable label row\n",
    "## New datafile saved as\n",
    "F2Fmerged_prep10 = pd.read_csv(\"C:/Users/Brandy/Documents/GitHub/HotMessExpress/users/brandy/1_Data/2_Data_prep/f2fMerged_prep10.csv\")"
   ]
  },
  {
   "cell_type": "code",
   "execution_count": null,
   "id": "c6c78791",
   "metadata": {},
   "outputs": [],
   "source": [
    "## Calculated TBL#_RATdiff score\n",
    "## RATdiff = tRAT - (iRAT score * 3)\n",
    "## multiplier of 3 because points for tRAT = 15 (3 pts/question) and points for iRAT = 5 (1 pt/question)\n",
    "## New datafile saved as\n",
    "F2Fmerged_prep11 = pd.read_csv(\"C:/Users/Brandy/Documents/GitHub/HotMessExpress/users/brandy/1_Data/2_Data_prep/f2fMerged_prep11.csv\")"
   ]
  },
  {
   "cell_type": "code",
   "execution_count": null,
   "id": "b2e38830",
   "metadata": {},
   "outputs": [],
   "source": [
    "## Copied columns and pasted as values versus formula\n",
    "## Formatted columns as numbers with 0 decimal places\n",
    "## New datafile saved as\n",
    "F2Fmerged_prep12 = pd.read_csv(\"C:/Users/Brandy/Documents/GitHub/HotMessExpress/users/brandy/1_Data/2_Data_prep/f2fMerged_prep12.csv\")"
   ]
  },
  {
   "cell_type": "code",
   "execution_count": null,
   "id": "866d22ec",
   "metadata": {},
   "outputs": [],
   "source": [
    "## Saving newly cleaned file\n",
    "## New datafile saved as\n",
    "F2Fmerged_clean = pd.read_csv(\"C:/Users/Brandy/Documents/GitHub/HotMessExpress/users/brandy/1_Data/2_Data_prep/f2fMerged_clean.csv\")"
   ]
  },
  {
   "cell_type": "code",
   "execution_count": null,
   "id": "13be22e4",
   "metadata": {},
   "outputs": [],
   "source": [
    "## Copy of clean data file has also been saved in main data folder (\"data/1_Data_Clean/f2fMerged_clean.csv\")"
   ]
  }
 ],
 "metadata": {
  "kernelspec": {
   "display_name": "Python 3",
   "language": "python",
   "name": "python3"
  },
  "language_info": {
   "codemirror_mode": {
    "name": "ipython",
    "version": 3
   },
   "file_extension": ".py",
   "mimetype": "text/x-python",
   "name": "python",
   "nbconvert_exporter": "python",
   "pygments_lexer": "ipython3",
   "version": "3.8.8"
  }
 },
 "nbformat": 4,
 "nbformat_minor": 5
}
