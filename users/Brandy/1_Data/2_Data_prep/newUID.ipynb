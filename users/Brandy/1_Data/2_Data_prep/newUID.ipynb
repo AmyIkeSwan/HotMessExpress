{
 "cells": [
  {
   "cell_type": "code",
   "execution_count": 1,
   "id": "66efe56c",
   "metadata": {},
   "outputs": [],
   "source": [
    "## Data Wrangling Notes for replacing UID with new UID all \"f2fMerged_\" datasets\n",
    "## Notes created by Brandy M. Roane\n",
    "## This syntax file references files located in \"1_Users/1_Data/2_Data_prep"
   ]
  },
  {
   "cell_type": "code",
   "execution_count": 2,
   "id": "22ff7c03",
   "metadata": {},
   "outputs": [],
   "source": [
    "## Load libraries\n",
    "import pandas as pd\n",
    "import numpy as np"
   ]
  },
  {
   "cell_type": "code",
   "execution_count": 3,
   "id": "049a370b",
   "metadata": {},
   "outputs": [],
   "source": [
    "## Original datafile\n",
    "### Has the new UID all prep and clean files currently do not\n",
    "f2fmerged_raw = pd.read_csv(\"C:/Users/Brandy/Documents/GitHub/HotMessExpress/1_Users/Brandy/1_Data/2_Data_prep/f2fMerged_raw.csv\")"
   ]
  },
  {
   "cell_type": "code",
   "execution_count": 6,
   "id": "9cf9ebdb",
   "metadata": {},
   "outputs": [],
   "source": [
    "## Replaced old UID with new UID\n",
    "## Section variable - rename \"Cohort\" and recoded as year only versus string (Section --> Cohort)\n",
    "## Section variable removed\n",
    "## Columns not to pertinent to the questions to be addressed removed\n",
    "## Rows with the variable definition and points for assignments removed\n",
    "\n",
    "## New datafile saved as\n",
    "f2fmerged_prep1 = pd.read_csv(\"C:/Users/Brandy/Documents/GitHub/HotMessExpress/1_Users/Brandy/1_Data/2_Data_prep/f2fMerged_prep1.csv\")"
   ]
  },
  {
   "cell_type": "code",
   "execution_count": null,
   "id": "6d379386",
   "metadata": {},
   "outputs": [],
   "source": [
    "## Subset f2fmerged_raw to only Cohort, Team, Sum_Introversion, Sum_Extroversion\n",
    "f2fmerged_IE_prep2 = f2fmerged_IE_prep1[['Cohort', 'Group', 'Sum_Introversion', 'Sum_Extroversion']]"
   ]
  },
  {
   "cell_type": "code",
   "execution_count": null,
   "id": "a0c7ffbc",
   "metadata": {},
   "outputs": [],
   "source": [
    "## Merge 'f2fmerged_IE_prep5' and 'f2fTeamRatings_prep4'\n",
    "\n",
    "f2fTeamRatings_prep5 = pd.merge(f2fmerged_IE_prep5, f2fTeamRatings_prep4, on='TeamUID')\n",
    "\n",
    "f2fTeamRatings_prep5.head()"
   ]
  },
  {
   "cell_type": "code",
   "execution_count": null,
   "id": "d0302ca0",
   "metadata": {},
   "outputs": [],
   "source": [
    "## Need to combine average Introversion and Extroversion scores for each team to use as a covariate for Team Rating analyses\n",
    "## Prep data from f2fmerged_clean\n",
    "## Original datafile\n",
    "f2fmerged_prep1 = pd.read_csv(\"C:/Users/Brandy/Documents/GitHub/HotMessExpress/1_Users/Brandy/1_Data/2_Data_prep/f2fmerged_clean.csv\")\n",
    "\n",
    "## New datafile saved as\n",
    "f2fmerged_clean.to_csv('f2fmerged_IE_prep1.csv')\n",
    "\n",
    "## Recall new saved data file\n",
    "f2fmerged_IE_prep1 = pd.read_csv(\"C:/Users/Brandy/Documents/GitHub/HotMessExpress/1_Users/Brandy/1_Data/2_Data_prep/f2fmerged_IE_prep1.csv\")"
   ]
  }
 ],
 "metadata": {
  "kernelspec": {
   "display_name": "Python 3",
   "language": "python",
   "name": "python3"
  },
  "language_info": {
   "codemirror_mode": {
    "name": "ipython",
    "version": 3
   },
   "file_extension": ".py",
   "mimetype": "text/x-python",
   "name": "python",
   "nbconvert_exporter": "python",
   "pygments_lexer": "ipython3",
   "version": "3.8.8"
  }
 },
 "nbformat": 4,
 "nbformat_minor": 5
}
